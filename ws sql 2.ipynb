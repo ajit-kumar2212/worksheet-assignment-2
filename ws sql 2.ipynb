{
 "cells": [
  {
   "cell_type": "code",
   "execution_count": null,
   "id": "1c578c82",
   "metadata": {},
   "outputs": [],
   "source": [
    "1. (D) Unique\n",
    "2. (D) None of the above\n",
    "3. (A) Each entry in the primary key uniquely identifies each entry or row in the table\n",
    "4. (A) There should not be any duplicate entries\n",
    "5. (B) Foreign Key\n",
    "6. (C) 2\n",
    "7. (A) One to many\n",
    "8. (C) One to one\n",
    "9. (A) delivery id \n",
    "10. (D) 2\n",
    "11. (B) Many to one\n",
    "12. (C) Table\n",
    "13. (A) insert into\n",
    "14. (B) Unique\n",
    "(C) Primary Key\n",
    "15. (A) A blood group can contain one of the following values - A, B, AB and O.\n",
    "    (B) A blood group can only contain characters"
   ]
  }
 ],
 "metadata": {
  "kernelspec": {
   "display_name": "Python 3 (ipykernel)",
   "language": "python",
   "name": "python3"
  },
  "language_info": {
   "codemirror_mode": {
    "name": "ipython",
    "version": 3
   },
   "file_extension": ".py",
   "mimetype": "text/x-python",
   "name": "python",
   "nbconvert_exporter": "python",
   "pygments_lexer": "ipython3",
   "version": "3.9.12"
  }
 },
 "nbformat": 4,
 "nbformat_minor": 5
}
