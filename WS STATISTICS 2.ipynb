{
 "cells": [
  {
   "cell_type": "markdown",
   "id": "1b99fdb1",
   "metadata": {},
   "source": [
    "# WS statistics 2"
   ]
  },
  {
   "cell_type": "code",
   "execution_count": null,
   "id": "c1d8ee48",
   "metadata": {},
   "outputs": [],
   "source": [
    "1. (c) Both\n",
    "2. (c) 12\n",
    "3. (d)\n",
    "4. (c) Both\n",
    "5. (c) Analyzing and interpreting\n",
    "6. (b) Dataset\n",
    "7. (a) 2 or more\n",
    "8. (a), (b) Line graph and Scatterplot (You can choose any one)\n",
    "9. (d) Analysis of variance\n",
    "10. (a) Z-score\n",
    "11. (c) Mean\n",
    "12. (d) 400005.2\n",
    "13. (d) Mean\n",
    "14. (a) Descriptive and inferences\n",
    "15. (d) H-"
   ]
  }
 ],
 "metadata": {
  "kernelspec": {
   "display_name": "Python 3 (ipykernel)",
   "language": "python",
   "name": "python3"
  },
  "language_info": {
   "codemirror_mode": {
    "name": "ipython",
    "version": 3
   },
   "file_extension": ".py",
   "mimetype": "text/x-python",
   "name": "python",
   "nbconvert_exporter": "python",
   "pygments_lexer": "ipython3",
   "version": "3.9.12"
  }
 },
 "nbformat": 4,
 "nbformat_minor": 5
}
