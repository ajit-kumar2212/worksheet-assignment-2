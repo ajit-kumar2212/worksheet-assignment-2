{
 "cells": [
  {
   "cell_type": "code",
   "execution_count": null,
   "id": "d37dbcb0",
   "metadata": {},
   "outputs": [],
   "source": [
    "1. a) 2 Only\n",
    "2. d) 1, 2 and 4\n",
    "3. a) True\n",
    "4. a) 1 only \n",
    "5. b) 1\n",
    "6. b) No\n",
    "7. a) Yes\n",
    "8. d) All of the above\n",
    "9. a) K-means clustering\n",
    "10. d) All of the above\n",
    "11. d) All of the above\n",
    "       MACHINE LEARNINg\n",
    "\n",
    "12. The K-means clustering algorithm is sensitive to outliers, because a mean is easily influenced by \n",
    "     extreme values. The group of points in the right form a cluster, while the rightmost point is an \n",
    "      outlier.\n",
    "13. Other clustering algorithms with better features tend to be more expensive. In this case, k-means \n",
    "    becomes a great solution for pre-clustering, reducing the space into disjoint smaller sub-spaces \n",
    "    whereother clustering algorithms can be applied. K-means is the simplest.\n",
    "14. The basic k-means clustering is based on a non-deterministic algorithm. This means that running \n",
    "    thealgorithm several times on the same data, could give different results. However, to ensure \n",
    "    consistentresults, FCS Express performs k-means clustering using a deterministic method"
   ]
  }
 ],
 "metadata": {
  "kernelspec": {
   "display_name": "Python 3 (ipykernel)",
   "language": "python",
   "name": "python3"
  },
  "language_info": {
   "codemirror_mode": {
    "name": "ipython",
    "version": 3
   },
   "file_extension": ".py",
   "mimetype": "text/x-python",
   "name": "python",
   "nbconvert_exporter": "python",
   "pygments_lexer": "ipython3",
   "version": "3.9.12"
  }
 },
 "nbformat": 4,
 "nbformat_minor": 5
}
